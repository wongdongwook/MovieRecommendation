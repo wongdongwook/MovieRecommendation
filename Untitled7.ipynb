{
  "nbformat": 4,
  "nbformat_minor": 0,
  "metadata": {
    "colab": {
      "name": "Untitled7.ipynb",
      "version": "0.3.2",
      "provenance": [],
      "include_colab_link": true
    },
    "kernelspec": {
      "name": "python3",
      "display_name": "Python 3"
    },
    "accelerator": "TPU"
  },
  "cells": [
    {
      "cell_type": "markdown",
      "metadata": {
        "id": "view-in-github",
        "colab_type": "text"
      },
      "source": [
        "<a href=\"https://colab.research.google.com/github/wongdongwook/MovieRecommendation/blob/master/Untitled7.ipynb\" target=\"_parent\"><img src=\"https://colab.research.google.com/assets/colab-badge.svg\" alt=\"Open In Colab\"/></a>"
      ]
    },
    {
      "metadata": {
        "id": "9DR2i9e6Tg_8",
        "colab_type": "code",
        "colab": {
          "base_uri": "https://localhost:8080/",
          "height": 35
        },
        "outputId": "1cb281d9-db72-4959-cb47-b815dc39f920"
      },
      "cell_type": "code",
      "source": [
        "from keras import layers, models"
      ],
      "execution_count": 1,
      "outputs": [
        {
          "output_type": "stream",
          "text": [
            "Using TensorFlow backend.\n"
          ],
          "name": "stderr"
        }
      ]
    },
    {
      "metadata": {
        "id": "ELQsMMh3Tpdh",
        "colab_type": "code",
        "colab": {}
      },
      "cell_type": "code",
      "source": [
        "\n",
        "class ANN(models.Model):\n",
        "    def __init__(self, Nin, Nh, Nout):\n",
        "        # Prepare network layers and activate functions\n",
        "        hidden = layers.Dense(Nh)\n",
        "        output = layers.Dense(Nout)\n",
        "        relu = layers.Activation('relu')\n",
        "\n",
        "        # Connect network elements\n",
        "        x = layers.Input(shape=(Nin,))\n",
        "        h = relu(hidden(x))\n",
        "        y = output(h)\n",
        "\n",
        "        super().__init__(x, y)\n",
        "\n",
        "        self.compile(loss='mse', optimizer='sgd')"
      ],
      "execution_count": 0,
      "outputs": []
    },
    {
      "metadata": {
        "id": "y38YVKF5UkeQ",
        "colab_type": "code",
        "colab": {
          "base_uri": "https://localhost:8080/",
          "height": 388
        },
        "outputId": "e7ad0d78-fc90-4b6b-f5c0-164a7cdfbf36"
      },
      "cell_type": "code",
      "source": [
        "\n",
        "\n",
        "##############################################\n",
        "# Data\n",
        "##############################################\n",
        "from keras import datasets\n",
        "\n",
        "\n",
        "def Data_func():\n",
        "    (X_train, y_train), (X_test, y_test) = datasets.boston_housing.load_data()\n",
        "    scaler = preprocessing.MinMaxScaler()\n",
        "    X_train = scaler.fit_transform(X_train)\n",
        "    X_test = scaler.transform(X_test)\n",
        "    return (X_train, y_train), (X_test, y_test)\n",
        "\n",
        "\n",
        "##############################################\n",
        "# Plotting\n",
        "##############################################\n",
        "import matplotlib.pyplot as plt\n",
        "from keraspp.skeras import plot_loss\n",
        "\n",
        "\n",
        "##############################################\n",
        "# Main\n",
        "##############################################\n",
        "def main():\n",
        "    Nin = 13\n",
        "    Nh = 5\n",
        "    Nout = 1\n",
        "\n",
        "    model = ANN(Nin, Nh, Nout)\n",
        "    (X_train, y_train), (X_test, y_test) = Data_func()\n",
        "\n",
        "    history = model.fit(X_train, y_train, epochs=100, batch_size=100, validation_split=0.2, verbose=2)\n",
        "\n",
        "    performace_test = model.evaluate(X_test, y_test, batch_size=100)\n",
        "    print('\\nTest Loss -> {:.2f}'.format(performace_test))\n",
        "\n",
        "    plot_loss(history)\n",
        "    plt.show()\n",
        "    \n",
        "    \n",
        "\n",
        "\n",
        "\n",
        "if __name__ == '__main__':\n",
        "    main()"
      ],
      "execution_count": 7,
      "outputs": [
        {
          "output_type": "error",
          "ename": "ModuleNotFoundError",
          "evalue": "ignored",
          "traceback": [
            "\u001b[0;31m---------------------------------------------------------------------------\u001b[0m",
            "\u001b[0;31mModuleNotFoundError\u001b[0m                       Traceback (most recent call last)",
            "\u001b[0;32m<ipython-input-7-010be3e2536c>\u001b[0m in \u001b[0;36m<module>\u001b[0;34m()\u001b[0m\n\u001b[1;32m     14\u001b[0m \u001b[0;31m##############################################\u001b[0m\u001b[0;34m\u001b[0m\u001b[0;34m\u001b[0m\u001b[0m\n\u001b[1;32m     15\u001b[0m \u001b[0;32mimport\u001b[0m \u001b[0mmatplotlib\u001b[0m\u001b[0;34m.\u001b[0m\u001b[0mpyplot\u001b[0m \u001b[0;32mas\u001b[0m \u001b[0mplt\u001b[0m\u001b[0;34m\u001b[0m\u001b[0m\n\u001b[0;32m---> 16\u001b[0;31m \u001b[0;32mfrom\u001b[0m \u001b[0mkeraspp\u001b[0m\u001b[0;34m.\u001b[0m\u001b[0mskeras\u001b[0m \u001b[0;32mimport\u001b[0m \u001b[0mplot_loss\u001b[0m\u001b[0;34m\u001b[0m\u001b[0m\n\u001b[0m\u001b[1;32m     17\u001b[0m \u001b[0;34m\u001b[0m\u001b[0m\n\u001b[1;32m     18\u001b[0m \u001b[0;34m\u001b[0m\u001b[0m\n",
            "\u001b[0;31mModuleNotFoundError\u001b[0m: No module named 'keraspp'",
            "",
            "\u001b[0;31m---------------------------------------------------------------------------\u001b[0;32m\nNOTE: If your import is failing due to a missing package, you can\nmanually install dependencies using either !pip or !apt.\n\nTo view examples of installing some common dependencies, click the\n\"Open Examples\" button below.\n\u001b[0;31m---------------------------------------------------------------------------\u001b[0m\n"
          ]
        }
      ]
    }
  ]
}